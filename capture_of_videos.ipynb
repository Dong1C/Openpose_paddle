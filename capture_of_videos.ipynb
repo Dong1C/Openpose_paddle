{
 "cells": [
  {
   "cell_type": "code",
   "execution_count": null,
   "id": "bd0ced30",
   "metadata": {},
   "outputs": [],
   "source": [
    "import sys \n",
    "sys.path.append('E:/Coding_Python/openpose-paddle/openpose')\n",
    "\n",
    "# 读取摄像头\n",
    "import cv2\n",
    "cap = cv2.VideoCapture(0)\n",
    "\n",
    "# 导入手部识别模型\n",
    "from openpose.detectors.hand import Hand\n",
    "hand_estimation = Hand()\n",
    "\n",
    "import matplotlib.pyplot as plt\n",
    "import time\n",
    "from openpose.util import draw_handpose\n",
    "pTime, cTime = 0, 0\n",
    "while True:\n",
    "    success, img = cap.read()\n",
    "    # 读取图片\n",
    "    ORIimg = cv2.cvtColor(img, cv2.COLOR_BGR2RGB)\n",
    "    # 识别图片\n",
    "    output = hand_estimation(ORIimg)\n",
    "    # 使用画布重写图片\n",
    "    img = draw_handpose(ORIimg, [output])[:, :, [2, 1, 0]]\n",
    "    cTime = time.time()\n",
    "    fps = 1 / (cTime - pTime)\n",
    "    pTime = cTime\n",
    "    cv2.imshow(\"image\", img)\n",
    "    cv2.waitKey(1)"
   ]
  },
  {
   "cell_type": "code",
   "execution_count": null,
   "id": "e96da0ba",
   "metadata": {},
   "outputs": [],
   "source": [
    "import numpy as np\n",
    "import cv2\n",
    "cap = cv2.VideoCapture('2.avi')\n",
    "import sys \n",
    "sys.path.append('E:/Coding_Python/openpose-paddle/openpose')\n",
    "\n",
    "# 导入手部识别模型\n",
    "from openpose.detectors.hand import Hand\n",
    "hand_estimation = Hand()\n",
    "\n",
    "import matplotlib.pyplot as plt\n",
    "from openpose.util import draw_handpose\n",
    "\n",
    "fourcc = cv2.VideoWriter_fourcc(*'XVID')\n",
    "out = cv2.VideoWriter('output.avi', fourcc, 20.0, (640,  480))\n",
    "\n",
    "while cap.isOpened():\n",
    "    ret, img = cap.read()\n",
    "    if not ret:\n",
    "        print(\"Can't receive frame (stream end?). Exiting ...\")\n",
    "        break\n",
    "    \n",
    "    # 读取图片\n",
    "    ORIimg = cv2.cvtColor(img, cv2.COLOR_BGR2RGB)\n",
    "    # 识别图片\n",
    "    output = hand_estimation(ORIimg)\n",
    "    # 使用画布重写图片\n",
    "    img = draw_handpose(ORIimg, [output])[:, :, [2, 1, 0]]\n",
    "    out.write(img)\n",
    "    if cv2.waitKey(1) == ord('q'):\n",
    "        break\n",
    "cap.release()\n",
    "cv2.destroyAllWindows()"
   ]
  },
  {
   "cell_type": "code",
   "execution_count": null,
   "id": "61ed2088",
   "metadata": {},
   "outputs": [],
   "source": []
  }
 ],
 "metadata": {
  "kernelspec": {
   "display_name": "ai_paddle_202",
   "language": "python",
   "name": "ai_paddle_202"
  },
  "language_info": {
   "codemirror_mode": {
    "name": "ipython",
    "version": 3
   },
   "file_extension": ".py",
   "mimetype": "text/x-python",
   "name": "python",
   "nbconvert_exporter": "python",
   "pygments_lexer": "ipython3",
   "version": "3.8.13"
  }
 },
 "nbformat": 4,
 "nbformat_minor": 5
}
